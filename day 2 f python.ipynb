{
 "cells": [
  {
   "cell_type": "code",
   "execution_count": null,
   "id": "774ac407-484e-49dc-8395-a1f2ad2e621d",
   "metadata": {},
   "outputs": [],
   "source": [
    "introduction to python programming : "
   ]
  },
  {
   "cell_type": "code",
   "execution_count": null,
   "id": "f84e7d44-e502-4289-923b-e5cfe21b2361",
   "metadata": {},
   "outputs": [],
   "source": [
    "understanding the varaibles in python :"
   ]
  },
  {
   "cell_type": "code",
   "execution_count": null,
   "id": "cdbdbca6-279c-450f-ab65-64b06bc03a23",
   "metadata": {},
   "outputs": [],
   "source": []
  },
  {
   "cell_type": "code",
   "execution_count": 9,
   "id": "8a2d82fe-57ca-4a85-8be8-309e160c2ae0",
   "metadata": {},
   "outputs": [],
   "source": [
    "x = 3\n",
    "Y = 2"
   ]
  },
  {
   "cell_type": "code",
   "execution_count": 16,
   "id": "df283023-3070-4184-a77f-e31a9b379fe7",
   "metadata": {},
   "outputs": [
    {
     "name": "stdout",
     "output_type": "stream",
     "text": [
      "5\n"
     ]
    }
   ],
   "source": [
    "z = x+y \n",
    "print(z)"
   ]
  },
  {
   "cell_type": "code",
   "execution_count": null,
   "id": "cfb486d8-eb73-4a89-83dd-6b55f55ccc25",
   "metadata": {},
   "outputs": [],
   "source": []
  },
  {
   "cell_type": "code",
   "execution_count": null,
   "id": "5dfd15ff-c9a6-465f-89f3-23fcbb474a78",
   "metadata": {},
   "outputs": [],
   "source": []
  },
  {
   "cell_type": "code",
   "execution_count": null,
   "id": "a86d04a7-8993-427d-93b6-5c5a0b55bf42",
   "metadata": {},
   "outputs": [],
   "source": []
  }
 ],
 "metadata": {
  "kernelspec": {
   "display_name": "Python 3 (ipykernel)",
   "language": "python",
   "name": "python3"
  },
  "language_info": {
   "codemirror_mode": {
    "name": "ipython",
    "version": 3
   },
   "file_extension": ".py",
   "mimetype": "text/x-python",
   "name": "python",
   "nbconvert_exporter": "python",
   "pygments_lexer": "ipython3",
   "version": "3.11.7"
  }
 },
 "nbformat": 4,
 "nbformat_minor": 5
}
