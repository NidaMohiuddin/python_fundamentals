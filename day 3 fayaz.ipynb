{
 "cells": [
  {
   "cell_type": "code",
   "execution_count": null,
   "id": "6c2c22ed-0d81-4570-9ec4-a88c2c6de7a0",
   "metadata": {},
   "outputs": [],
   "source": [
    "continuation with string"
   ]
  },
  {
   "cell_type": "code",
   "execution_count": null,
   "id": "0c5be2c1-ad8d-4a62-969d-1bb181135e71",
   "metadata": {},
   "outputs": [],
   "source": []
  },
  {
   "cell_type": "code",
   "execution_count": 1,
   "id": "d4452078-2bc3-4270-b964-6a05836760d0",
   "metadata": {},
   "outputs": [
    {
     "name": "stdout",
     "output_type": "stream",
     "text": [
      "nida\n"
     ]
    }
   ],
   "source": [
    "fullname = \"nida\"\n",
    "print(fullname)"
   ]
  },
  {
   "cell_type": "code",
   "execution_count": null,
   "id": "6cfdeeca-41ef-4d0e-ab10-19c5c8c0038f",
   "metadata": {},
   "outputs": [],
   "source": []
  },
  {
   "cell_type": "code",
   "execution_count": null,
   "id": "2646bd11-4a28-43cb-811f-9f498fb33e6c",
   "metadata": {},
   "outputs": [],
   "source": [
    "#Down one is for first alpha for capital"
   ]
  },
  {
   "cell_type": "code",
   "execution_count": 2,
   "id": "745153e6-69a8-4689-9b90-a4e3098cf7bd",
   "metadata": {},
   "outputs": [
    {
     "name": "stdout",
     "output_type": "stream",
     "text": [
      "Nida\n"
     ]
    }
   ],
   "source": [
    "print(fullname.title())"
   ]
  },
  {
   "cell_type": "code",
   "execution_count": null,
   "id": "47d5a48d-9219-45e3-9d5c-dd56c0491715",
   "metadata": {},
   "outputs": [],
   "source": [
    "# i want to get the full name in capital letter"
   ]
  },
  {
   "cell_type": "code",
   "execution_count": 4,
   "id": "6dec6bd3-532b-46a4-9bfa-6cde95b0323a",
   "metadata": {},
   "outputs": [
    {
     "name": "stdout",
     "output_type": "stream",
     "text": [
      "NIDA\n"
     ]
    }
   ],
   "source": [
    "print(fullname.upper())"
   ]
  },
  {
   "cell_type": "code",
   "execution_count": null,
   "id": "b4a5f825-a598-49a8-ab49-4d7a40fff9c1",
   "metadata": {},
   "outputs": [],
   "source": [
    "# i want to get the full name in small letter"
   ]
  },
  {
   "cell_type": "code",
   "execution_count": 5,
   "id": "8da6550f-177d-4738-95b5-c85c6d222ab0",
   "metadata": {},
   "outputs": [
    {
     "name": "stdout",
     "output_type": "stream",
     "text": [
      "nida\n"
     ]
    }
   ],
   "source": [
    "print(fullname.lower())"
   ]
  },
  {
   "cell_type": "code",
   "execution_count": null,
   "id": "405dd450-f543-4612-b7e4-d8f65e0351b5",
   "metadata": {},
   "outputs": [],
   "source": [
    "introduction to f string:"
   ]
  },
  {
   "cell_type": "code",
   "execution_count": null,
   "id": "6ffe3573-6aaf-4bcf-ad71-abb5b792a742",
   "metadata": {},
   "outputs": [],
   "source": [
    "# general syntax of f string :"
   ]
  },
  {
   "cell_type": "code",
   "execution_count": null,
   "id": "5cf5bc4a-3c8d-4af7-9fa5-361983f8c92a",
   "metadata": {},
   "outputs": [],
   "source": [
    "f\"custom message {place_holder_1} {place_holder_2} {place_holder_3}.............{place_holder_n}\""
   ]
  },
  {
   "cell_type": "code",
   "execution_count": null,
   "id": "a5671a3d-a46e-41a6-812f-91aaf409e4df",
   "metadata": {},
   "outputs": [],
   "source": []
  },
  {
   "cell_type": "code",
   "execution_count": 18,
   "id": "51685954-b830-4c82-abbf-c4c0f0e9dca5",
   "metadata": {},
   "outputs": [],
   "source": [
    "first_name = \"nida\"\n",
    "last_name = \"ahmed\""
   ]
  },
  {
   "cell_type": "code",
   "execution_count": 6,
   "id": "bfb29d7e-d81a-493e-92ea-12fffd38c731",
   "metadata": {},
   "outputs": [],
   "source": [
    "#req : i want to get the full name..........?"
   ]
  },
  {
   "cell_type": "code",
   "execution_count": 19,
   "id": "5899e98a-561e-4a95-a272-c41791dda9c3",
   "metadata": {},
   "outputs": [
    {
     "name": "stdout",
     "output_type": "stream",
     "text": [
      "Nida Ahmed\n"
     ]
    }
   ],
   "source": [
    "fullname = f\"{first_name} {last_name}\"\n",
    "print(fullname.title())"
   ]
  },
  {
   "cell_type": "code",
   "execution_count": 21,
   "id": "61d1d3ad-a882-4b7f-beeb-961096a1b80d",
   "metadata": {},
   "outputs": [
    {
     "name": "stdout",
     "output_type": "stream",
     "text": [
      "keep up the good work Nida Ahmed\n"
     ]
    }
   ],
   "source": [
    "message = f\"keep up the good work {fullname.title()}\"\n",
    "print(message)"
   ]
  },
  {
   "cell_type": "code",
   "execution_count": null,
   "id": "f61f27d7-f4d8-4be0-9509-5192e383ac5b",
   "metadata": {},
   "outputs": [],
   "source": []
  },
  {
   "cell_type": "code",
   "execution_count": null,
   "id": "321d605d-fb8e-4d4e-a522-69b90243bd2b",
   "metadata": {},
   "outputs": [],
   "source": [
    "#adding a white spaces to string :"
   ]
  },
  {
   "cell_type": "code",
   "execution_count": null,
   "id": "68812c40-0fed-41a6-a7e9-a98aeba6635d",
   "metadata": {},
   "outputs": [],
   "source": []
  },
  {
   "cell_type": "code",
   "execution_count": 23,
   "id": "a1fda09f-ff5b-4192-9a87-eee9b0a48102",
   "metadata": {},
   "outputs": [
    {
     "name": "stdout",
     "output_type": "stream",
     "text": [
      "fav_lang:pythonjavac++reactc\n"
     ]
    }
   ],
   "source": [
    "print(\"fav_lang:pythonjavac++reactc\")"
   ]
  },
  {
   "cell_type": "code",
   "execution_count": 24,
   "id": "53601142-954d-4fee-a2db-254a58ce8f7c",
   "metadata": {},
   "outputs": [
    {
     "name": "stdout",
     "output_type": "stream",
     "text": [
      "fav_lang:\n",
      "python\n",
      "java\n",
      "c++\n",
      "react\n",
      "c\n"
     ]
    }
   ],
   "source": [
    "print(\"fav_lang:\\npython\\njava\\nc++\\nreact\\nc\") #\\n --> new line delimiter"
   ]
  },
  {
   "cell_type": "code",
   "execution_count": 25,
   "id": "ae4ef71e-d85c-4951-aa80-35ac05f98651",
   "metadata": {},
   "outputs": [
    {
     "name": "stdout",
     "output_type": "stream",
     "text": [
      "fav_lang:\n",
      "\tpython\n",
      "\tjava\n",
      "\tc++\n",
      "\treact\n",
      "\tc\n"
     ]
    }
   ],
   "source": [
    "print(\"fav_lang:\\n\\tpython\\n\\tjava\\n\\tc++\\n\\treact\\n\\tc\") #\\t --> tab delimiter"
   ]
  },
  {
   "cell_type": "code",
   "execution_count": null,
   "id": "1c1a6935-b2e9-40d1-b8d4-2971fa7bf8c1",
   "metadata": {},
   "outputs": [],
   "source": []
  },
  {
   "cell_type": "code",
   "execution_count": null,
   "id": "840f1c65-fdd7-4a96-bacf-10760ca02707",
   "metadata": {},
   "outputs": [],
   "source": []
  },
  {
   "cell_type": "code",
   "execution_count": null,
   "id": "fd776d65-f356-4cd7-a246-07e2fc008afe",
   "metadata": {},
   "outputs": [],
   "source": []
  },
  {
   "cell_type": "code",
   "execution_count": null,
   "id": "cded4b8c-cabb-48a2-9827-312b17637b6c",
   "metadata": {},
   "outputs": [],
   "source": []
  },
  {
   "cell_type": "code",
   "execution_count": null,
   "id": "94a7b33c-9ff8-4042-aafe-f90237a48e43",
   "metadata": {},
   "outputs": [],
   "source": []
  },
  {
   "cell_type": "code",
   "execution_count": null,
   "id": "58c7cf2d-a06f-47e9-bebf-f3f7fa568d00",
   "metadata": {},
   "outputs": [],
   "source": []
  },
  {
   "cell_type": "code",
   "execution_count": null,
   "id": "b61cd279-a02c-4794-9ee0-7df3e810b821",
   "metadata": {},
   "outputs": [],
   "source": []
  },
  {
   "cell_type": "code",
   "execution_count": null,
   "id": "16a07af2-da3d-4f04-87ef-6ce438c82372",
   "metadata": {},
   "outputs": [],
   "source": []
  },
  {
   "cell_type": "code",
   "execution_count": null,
   "id": "c78d02f2-780f-4ffa-a410-276399df9a1a",
   "metadata": {},
   "outputs": [],
   "source": []
  },
  {
   "cell_type": "code",
   "execution_count": null,
   "id": "575769fd-7c41-49e9-8eca-e8d1f0653ad4",
   "metadata": {},
   "outputs": [],
   "source": []
  }
 ],
 "metadata": {
  "kernelspec": {
   "display_name": "Python 3 (ipykernel)",
   "language": "python",
   "name": "python3"
  },
  "language_info": {
   "codemirror_mode": {
    "name": "ipython",
    "version": 3
   },
   "file_extension": ".py",
   "mimetype": "text/x-python",
   "name": "python",
   "nbconvert_exporter": "python",
   "pygments_lexer": "ipython3",
   "version": "3.11.7"
  }
 },
 "nbformat": 4,
 "nbformat_minor": 5
}
